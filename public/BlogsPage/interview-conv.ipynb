{
 "cells": [
  {
   "cell_type": "code",
   "execution_count": 8,
   "metadata": {},
   "outputs": [
    {
     "name": "stdout",
     "output_type": "stream",
     "text": [
      "Index: 3, Line: ## (1) Alan Argues Israel is a Victim\n",
      "Index: 27, Line: ## (2) Norman Argues it is Genocide\n",
      "Index: 51, Line: ## (3) How Will it Play Out?\n",
      "Index: 59, Line: ## (3) Alan Defends Israel\n",
      "Index: 71, Line: ## (4) Piers Suggests that Israeli Officials Are Against Two-State Solution\n",
      "Index: 99, Line: ## (5) Norman Refutes Alan's Arguments\n",
      "Index: 112, Line: ## (6) Norman Challenges Piers's Ideology\n",
      "Index: 125, Line: ## (7) Alan Argues Biden is Wrong and Blockade is Good\n"
     ]
    }
   ],
   "source": [
    "from varname import nameof\n",
    "\n",
    "# Read Markdown file\n",
    "file_path = 'piers-norman-interview.md'\n",
    "interviewer = \"Alan\"\n",
    "interviewee = [\"Norman\", \"Piers\"]\n",
    "with open(file_path, 'r', encoding='utf-8') as file:\n",
    "    markdown_content = file.read()\n",
    "\n",
    "# Split Markdown content by new lines\n",
    "markdown_lines = markdown_content.splitlines()\n",
    "\n",
    "# remove all emoty lines\n",
    "markdown_lines = [line for line in markdown_lines if line.strip()]\n",
    "\n",
    "indices_with_hashes = [index for index, line in enumerate(markdown_lines) if line.startswith('## ')]\n",
    "\n",
    "# Display indices and corresponding lines\n",
    "for index in indices_with_hashes:\n",
    "    print(f\"Index: {index}, Line: {markdown_lines[index]}\")"
   ]
  },
  {
   "cell_type": "code",
   "execution_count": 7,
   "metadata": {},
   "outputs": [],
   "source": [
    "\n",
    "sayer = \"Piers\"\n",
    "json_file = \"{\"\n",
    "for i, index in enumerate(indices_with_hashes):\n",
    "    if i == 0:\n",
    "        json_file += '\"summary\": ' \n",
    "        json_file+= '\"' + ('\\\\n').join(markdown_lines[0:index]) + '\"' ','\n",
    "        json_file += '\\n\"sections\": ['\n",
    "\n",
    "for i, index in enumerate(indices_with_hashes):\n",
    "    json_file += '\\n{\\n\"summary\": ' \n",
    "    json_file += '\"' + ('\\\\n').join(markdown_lines[indices_with_hashes[i]:indices_with_hashes[i]+2]) + '\"' ','\n",
    "    json_file += '\\n\"conversation\":' + '\\n' \n",
    "    json_file += \"[\\n\"\n",
    "    for j in range(indices_with_hashes[i], (indices_with_hashes[i+1]-2) if i != len(indices_with_hashes)-1 else len(markdown_lines)-2):\n",
    "        text = markdown_lines[j+2]\n",
    "        # if text has any \" then escape it\n",
    "        text = text.replace('\"', '\\\\\"')\n",
    "        if f'**Alan**:' in text: sayer = \"Alan\"; continue\n",
    "        if f'**Piers**:' in text: sayer = \"Piers\"; continue\n",
    "        if f'**Norman**:' in text: sayer = \"Norman\"; continue\n",
    "        json_file += \"{\\n\"\n",
    "        json_file += '\"' + f'{\"interviewer\" if sayer==\"Alan\" else \"interviewee\"}\"' +' :\"'+ sayer + '\",\\n'\n",
    "        json_file += '\"text\": \"' + text + '\"\\n'\n",
    "        if i != len(indices_with_hashes)-1:\n",
    "            json_file += \"},\\n\" if j != indices_with_hashes[i+1]-3  else \"}\\n\"\n",
    "        else:\n",
    "            json_file += \"},\\n\" if j != len(markdown_lines)-3  else \"}\\n\"\n",
    "    json_file += \"]\\n\"\n",
    "    json_file += \"},\\n\" if i != len(indices_with_hashes)-1 else \"}\\n\"\n",
    "\n",
    "json_file += \"]}\"\n",
    "\n",
    "# save json file replaces .md with .json\n",
    "new_file_path = file_path.replace(\".md\", \".json\")\n",
    "with open(new_file_path, \"w\") as f:\n",
    "    f.write(json_file)\n",
    "  "
   ]
  }
 ],
 "metadata": {
  "kernelspec": {
   "display_name": "M1",
   "language": "python",
   "name": "python3"
  },
  "language_info": {
   "codemirror_mode": {
    "name": "ipython",
    "version": 3
   },
   "file_extension": ".py",
   "mimetype": "text/x-python",
   "name": "python",
   "nbconvert_exporter": "python",
   "pygments_lexer": "ipython3",
   "version": "3.9.16"
  }
 },
 "nbformat": 4,
 "nbformat_minor": 2
}

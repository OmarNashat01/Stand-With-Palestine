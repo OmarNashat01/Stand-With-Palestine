{
 "cells": [
  {
   "cell_type": "code",
   "execution_count": 39,
   "metadata": {},
   "outputs": [
    {
     "name": "stdout",
     "output_type": "stream",
     "text": [
      "Index: 4, Line: ## (1) Double Standards & Bigotry\n",
      "Index: 22, Line: ## (2) Nullifying Anti-Semitism Claims\n",
      "Index: 33, Line: ## (3) Condemning Hamas\n",
      "Index: 46, Line: ## (4) Condemning Israel’s Response\n",
      "Index: 54, Line: ## (5) Unseen Reality of Bombs\n",
      "Index: 67, Line: ## (6) Establishing a Proportionate Response\n",
      "Index: 75, Line: ## (7) Israel’s Response is a Failure in Terms of Hostages\n",
      "Index: 84, Line: ## (8) Israel’s Response is a Failure Because it is Terrorism\n",
      "Index: 91, Line: ## (9) Israel’s Response is a Failure Because Palestinians Can’t do Anything\n",
      "Index: 98, Line: ## (10) Comment on the U.S. Response\n",
      "Index: 102, Line: ## (11) Long-term Solution is the Two-State Solution\n",
      "Index: 108, Line: ## (12) Jews Should Not be Happy\n"
     ]
    }
   ],
   "source": [
    "from varname import nameof\n",
    "\n",
    "# Read Markdown file\n",
    "file_path = 'piers-cenk-interview.md'\n",
    "interviewer = \"Piers\"\n",
    "interviewee = \"Cenk\"\n",
    "with open(file_path, 'r', encoding='utf-8') as file:\n",
    "    markdown_content = file.read()\n",
    "\n",
    "# Split Markdown content by new lines\n",
    "markdown_lines = markdown_content.splitlines()\n",
    "\n",
    "# remove all emoty lines\n",
    "markdown_lines = [line for line in markdown_lines if line.strip()]\n",
    "\n",
    "indices_with_hashes = [index for index, line in enumerate(markdown_lines) if line.startswith('## ')]\n",
    "\n",
    "# Display indices and corresponding lines\n",
    "for index in indices_with_hashes:\n",
    "    print(f\"Index: {index}, Line: {markdown_lines[index]}\")"
   ]
  },
  {
   "cell_type": "code",
   "execution_count": 38,
   "metadata": {},
   "outputs": [],
   "source": [
    "\n",
    "sayer = interviewer\n",
    "json_file = \"{\"\n",
    "for i, index in enumerate(indices_with_hashes):\n",
    "    if i == 0:\n",
    "        json_file += '\"summary\": ' \n",
    "        json_file+= '\"' + ('\\\\n').join(markdown_lines[0:index]) + '\"' ','\n",
    "        json_file += '\\n\"sections\": ['\n",
    "\n",
    "for i, index in enumerate(indices_with_hashes):\n",
    "    json_file += '\\n{\\n\"summary\": ' \n",
    "    json_file += '\"' + ('\\\\n').join(markdown_lines[indices_with_hashes[i]:indices_with_hashes[i]+2]) + '\"' ','\n",
    "    json_file += '\\n\"conversation\":' + '\\n' \n",
    "    json_file += \"[\\n\"\n",
    "    for j in range(indices_with_hashes[i], (indices_with_hashes[i+1]-2) if i != len(indices_with_hashes)-1 else len(markdown_lines)-2):\n",
    "        text = markdown_lines[j+2]\n",
    "        if f'**{interviewer}:**' in text: sayer = interviewer; continue\n",
    "        if f'**{interviewee}:**' in text: sayer = interviewee; continue\n",
    "        json_file += \"{\\n\"\n",
    "        json_file += '\"' + f'{\"interviewer\" if sayer==interviewer else \"interviewee\"}\"' +' :\"'+ sayer + '\",\\n'\n",
    "        json_file += '\"text\": \"' + text + '\"\\n'\n",
    "        if i != len(indices_with_hashes)-1:\n",
    "            json_file += \"},\\n\" if j != indices_with_hashes[i+1]-3  else \"}\\n\"\n",
    "        else:\n",
    "            json_file += \"},\\n\" if j != len(markdown_lines)-3  else \"}\\n\"\n",
    "    json_file += \"]\\n\"\n",
    "    json_file += \"},\\n\" if i != len(indices_with_hashes)-1 else \"}\\n\"\n",
    "\n",
    "json_file += \"]}\"\n",
    "\n",
    "# save json file replaces .md with .json\n",
    "new_file_path = file_path.replace(\".md\", \".json\")\n",
    "with open(new_file_path, \"w\") as f:\n",
    "    f.write(json_file)\n",
    "  "
   ]
  }
 ],
 "metadata": {
  "kernelspec": {
   "display_name": "M1",
   "language": "python",
   "name": "python3"
  },
  "language_info": {
   "codemirror_mode": {
    "name": "ipython",
    "version": 3
   },
   "file_extension": ".py",
   "mimetype": "text/x-python",
   "name": "python",
   "nbconvert_exporter": "python",
   "pygments_lexer": "ipython3",
   "version": "3.9.16"
  }
 },
 "nbformat": 4,
 "nbformat_minor": 2
}

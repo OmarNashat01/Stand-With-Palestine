{
 "cells": [
  {
   "cell_type": "code",
   "execution_count": 2,
   "metadata": {},
   "outputs": [
    {
     "name": "stdout",
     "output_type": "stream",
     "text": [
      "68\n"
     ]
    }
   ],
   "source": [
    "import json\n",
    "\n",
    "# read pcbs_data.json\n",
    "with open(\"pcbs_data.json\") as pcbs_data:\n",
    "    pcbs_data = json.loads(pcbs_data.read())\n",
    "\n",
    "print(len(pcbs_data))"
   ]
  },
  {
   "cell_type": "code",
   "execution_count": 9,
   "metadata": {},
   "outputs": [],
   "source": [
    "from datetime import datetime\n",
    "\n",
    "def days_since_october_7(date):\n",
    "    october_7 = datetime.strptime('2023-10-7', '%Y-%m-%d')\n",
    "    date = datetime.strptime(date, '%d/%m/%Y')\n",
    "    delta = date - october_7\n",
    "    return delta.days"
   ]
  },
  {
   "cell_type": "code",
   "execution_count": 11,
   "metadata": {},
   "outputs": [
    {
     "name": "stdout",
     "output_type": "stream",
     "text": [
      "['47', '50', '55', '57', '59', '61', '62', '63', '64', '66', '67', '68', '71', '72', '73', '74', '76', '77', '78', '80', '81', '83', '84', '85', '86', '87', '88', '89', '90', '91', '92', '93', '95', '96', '97', '98', '99', '100', '101', '107', '108', '109', '111', '112', '113', '114', '115', '116', '117', '120', '121', '122', '124', '128', '129', '130', '132', '133', '135', '136', '138', '140', '141', '144', '147', '149', '150', '154']\n",
      "[6150, 6150, 6150, 6600, 6600, 7729, 7870, 7870, 7875, 8000, 8000, 8000, 8000, 8000, 8000, 8000, 8000, 8200, 8200, 8200, 8800, 8880, 9000, 9000, 9000, 9000, 9280, 9730, 9730, 10000, 10000, 10000, 10000, 10300, 10300, 10400, 12345, 12345, 12345, 12345, 12345, 12345, 12345, 12345, 12345, 12345, 12345, 12345, 12345, 12345, 12345, 12345, 12345, 12345, 12345, 12345, 12345, 12345, 12345, 12660, 12660, 12660, 12660, 12660, 12660, 12660, 13430, 13430]\n",
      "[14854, 14854, 15178, 15523, 15899, 17177, 17490, 17700, 17997, 18412, 18608, 18787, 18800, 19453, 19667, 20000, 20057, 20258, 20424, 20915, 21110, 21507, 21672, 21822, 21978, 22185, 22313, 22438, 22600, 22722, 22835, 23084, 23357, 23469, 23708, 23843, 23968, 24100, 24258, 25295, 25490, 25700, 26083, 26257, 26422, 26337, 26751, 26900, 26900, 27365, 27478, 27585, 27585, 28340, 28473, 28576, 28775, 28858, 29092, 29195, 29410, 29606, 29692, 29954, 30320, 30534, 30631, 30960]\n"
     ]
    }
   ],
   "source": [
    "day_inds = []\n",
    "num_children_killed = []\n",
    "num_adults_killed = []\n",
    "\n",
    "for date, data in pcbs_data.items():\n",
    "    num_children_killed.append(data['martyr_data']['kids_gaza'])\n",
    "    num_adults_killed.append(data['martyr_data']['total_gaza'])\n",
    "    day_inds.append(str(days_since_october_7(date)))\n",
    "\n",
    "print(day_inds)\n",
    "print(num_children_killed)\n",
    "print(num_adults_killed)"
   ]
  },
  {
   "cell_type": "code",
   "execution_count": null,
   "metadata": {},
   "outputs": [],
   "source": []
  }
 ],
 "metadata": {
  "kernelspec": {
   "display_name": "Python 3",
   "language": "python",
   "name": "python3"
  },
  "language_info": {
   "codemirror_mode": {
    "name": "ipython",
    "version": 3
   },
   "file_extension": ".py",
   "mimetype": "text/x-python",
   "name": "python",
   "nbconvert_exporter": "python",
   "pygments_lexer": "ipython3",
   "version": "3.9.16"
  }
 },
 "nbformat": 4,
 "nbformat_minor": 2
}
